{
 "cells": [
  {
   "cell_type": "code",
   "execution_count": 1,
   "id": "44e535e6",
   "metadata": {},
   "outputs": [],
   "source": [
    "import obspy\n",
    "from obspy.imaging.source import plot_radiation_pattern\n",
    "import matplotlib.pyplot as plt"
   ]
  },
  {
   "cell_type": "code",
   "execution_count": 2,
   "id": "9621212d",
   "metadata": {},
   "outputs": [
    {
     "data": {
      "text/plain": [
       "<Figure size 640x480 with 0 Axes>"
      ]
     },
     "metadata": {},
     "output_type": "display_data"
    }
   ],
   "source": [
    "Mt=[1,1,1,0,0,0]\n",
    "f=plt.figure()\n",
    "plot_radiation_pattern(Mt,kind='vtk',fig=f,show=True)"
   ]
  },
  {
   "cell_type": "code",
   "execution_count": null,
   "id": "7d3f83a6",
   "metadata": {},
   "outputs": [],
   "source": []
  }
 ],
 "metadata": {
  "kernelspec": {
   "display_name": "Python 3 (ipykernel)",
   "language": "python",
   "name": "python3"
  },
  "language_info": {
   "codemirror_mode": {
    "name": "ipython",
    "version": 3
   },
   "file_extension": ".py",
   "mimetype": "text/x-python",
   "name": "python",
   "nbconvert_exporter": "python",
   "pygments_lexer": "ipython3",
   "version": "3.12.2"
  }
 },
 "nbformat": 4,
 "nbformat_minor": 5
}
