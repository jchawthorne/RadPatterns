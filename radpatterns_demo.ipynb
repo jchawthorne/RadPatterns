{
 "cells": [
  {
   "cell_type": "markdown",
   "id": "0d9919b5-8db7-4845-8e4b-f35667a9c717",
   "metadata": {},
   "source": [
    "## RadPatterns Usage Demonstration\n",
    "\n",
    "written by Jessica Hawthorne, July 2025"
   ]
  },
  {
   "cell_type": "code",
   "execution_count": 2,
   "id": "858b88c5-960d-4640-90b2-ec096a39bd14",
   "metadata": {},
   "outputs": [],
   "source": [
    "import numpy as np\n",
    "import radpatterns"
   ]
  },
  {
   "cell_type": "markdown",
   "id": "ed1807e9-2f77-4104-a945-de54edf55aac",
   "metadata": {},
   "source": [
    "### 1. Background\n",
    "\n",
    "The codes here are written to calculate the seismic radiation coefficients of P, SV, and SH waves from a point source.  You specify the fault's strike and dip, along with the rake amount of tensile opening.  You also specify the takeoff angle and azimuth of the outgoing seismic wave.  The code then calculates the amplitude and signs of the radiated wave.\n",
    "\n",
    "The physics and equations underlying these calculations are documented in a number of textbooks and papers, including\n",
    "\n",
    "Madariaga, R. (2015). Seismic source: Theory . In: _Geophysics. Encyclopedia of Earth Science._ Springer, Boston, MA, 10.1016/B978-0-444-53802-4.00070-1.\n",
    "                                                                                \n",
    "Ou, G. B., 2008: Seismological studies for tensile faults. _Terr. Atmos. Ocean. Sci._, 19, 463-471, 10.3319/TAO.2008.19.5.463(T).                           \n",
    "\n",
    "To summarise,  the far-field P, SH, and SV waves in a homogeneous medium can be written as scaled, delayed versions of the moment rate function $\\dot{M}$.  Following Madariaga (2015, equation 21), the particle motions are \n",
    "\n",
    "${\\bf u}^P(t)  = \\Re^P \\frac{1}{4\\pi \\rho \\alpha^2} \\frac{1}{R}  \\dot{M}(t-R/\\alpha) {\\bf e}_R$\n",
    "\n",
    "${\\bf u}^{SH}(t)  = \\Re^{SH} \\frac{1}{4\\pi \\rho \\beta^2} \\frac{1}{R}  \\dot{M}(t-R/\\beta) {\\bf e}_{\\phi}$\n",
    "\n",
    "${\\bf u}^{SV}(t)  = \\Re^{SV} \\frac{1}{4\\pi \\rho \\beta^2} \\frac{1}{R}  \\dot{M}(t-R/\\beta) {\\bf e}_{\\theta}$\n",
    "\n",
    "This code calculates the radiation coefficients $\\Re^P$, $\\Re^{SH}$, and $\\Re^{SV}$.  \n",
    "\n",
    "$\\rho$ is the material density, $\\alpha$ is the P wave velocity, $\\beta$ is the S wave velcoity, and $R$ is the distance from the source to receiver.\n",
    "\n",
    "The unit vectors ${\\bf e}_R$, ${\\bf e}_\\phi$, and ${\\bf e}_\\theta$ indicate the particle motion directions.  Here we have chosen ${\\bf e}_R$ to point directly away from the source, along the raypath.  ${\\bf e}_\\phi$ is oriented in a horizontal plane, perpendicular to the raypath, with positive to the right when facing the direction of travel.  ${\\bf e}_\\theta$ is oriented in a vertical plane, perpendicular to the raypath, with positive having a positive component in the upward direction.  "
   ]
  },
  {
   "cell_type": "markdown",
   "id": "0f8f856b-f35f-4ad2-a2a6-0aefc735d413",
   "metadata": {},
   "source": [
    "### 2. Calculating a moment tensor\n",
    "\n",
    "You may wish to calculate a moment tensor given a strike, dip, rake, and fault opening.  To do so, use the function create_moment_tensor.  \n",
    "\n",
    "To calculate the moment tensor for a double couple, just specify the strike, dip, and rake."
   ]
  },
  {
   "cell_type": "code",
   "execution_count": 5,
   "id": "081c808b-8c47-44d2-8c23-b90b39f49cd9",
   "metadata": {},
   "outputs": [
    {
     "name": "stdout",
     "output_type": "stream",
     "text": [
      "[[-0.  1. -0.]\n",
      " [ 1.  0. -0.]\n",
      " [-0. -0.  0.]]\n"
     ]
    }
   ],
   "source": [
    "# say we want an vertical E-W striking right-lateral strike-slip fault\n",
    "M=radpatterns.create_moment_tensor(strike=90,dip=90,rake=180)\n",
    "\n",
    "print(np.round(M,2))"
   ]
  },
  {
   "cell_type": "markdown",
   "id": "a8aab553-3026-4283-adc0-35bbcfff19e9",
   "metadata": {},
   "source": [
    "The moment tensor can also allow some tensile motion, or opening of the fault.  To do so, specify the opening angle: the direction of the surface of the fault relative to the fault plane. An opening angle of 0 gives pure shear slip.  An opening angle of 90 gives pure tensile motion.\n",
    "\n",
    "Note that opening particle motion creates stresses in all three directions.  To model these stresses, we must specify the material's Poisson's ratio.  By default, Poisson's ratio is taken to be 0.25."
   ]
  },
  {
   "cell_type": "code",
   "execution_count": 6,
   "id": "c49276f5-41f7-478f-b8b5-094cb157ab8c",
   "metadata": {},
   "outputs": [
    {
     "name": "stdout",
     "output_type": "stream",
     "text": [
      "[[1. 0. 0.]\n",
      " [0. 1. 0.]\n",
      " [0. 0. 3.]]\n"
     ]
    }
   ],
   "source": [
    "# say you want to calculate a moment tensor for tensile fault of a horizontal fault\n",
    "# the strike and rake will be irrelevant here\n",
    "M=radpatterns.create_moment_tensor(strike=0,dip=0,rake=0,opening_angle=90,poissons_ratio=0.25)\n",
    "\n",
    "print(np.round(M,2))"
   ]
  },
  {
   "cell_type": "markdown",
   "id": "64b72f24-547a-4e11-9e31-877c8f53c511",
   "metadata": {},
   "source": [
    "### 3. Calculate the radiation coefficients\n",
    "\n",
    "Given a moment tensor, you may wish to calculate the radiation coefficients $\\Re^P$, $\\Re^{SH}$, and $\\Re^{SV}$.  To do so, use the function calc_radiation_pattern.  You must specify the azimuth and takeoff angle of the outgoing wave.  The azimuth is measured in degrees east of north.  The takeoff angle is measured in degrees from down."
   ]
  },
  {
   "cell_type": "code",
   "execution_count": 8,
   "id": "cac2af7a-c349-4e99-8b96-23a69cc60c4c",
   "metadata": {},
   "outputs": [
    {
     "name": "stdout",
     "output_type": "stream",
     "text": [
      "P radiation coefficient nearby to the NE: 0.59\n",
      "P radiation coefficient far away to the NW: -0.12\n"
     ]
    }
   ],
   "source": [
    "# let's go back to our E-W right-lateral strike-slip fault\n",
    "M=radpatterns.create_moment_tensor(strike=90,dip=90,rake=180)\n",
    "\n",
    "# and look at a nearby station to the NE\n",
    "rd_p,rd_sh,rd_sv = radpatterns.calc_radiation_pattern(M,takeoff_angle=130,azimuth=45)\n",
    "print('P radiation coefficient nearby to the NE: {:0.2f}'.format(rd_p))\n",
    "\n",
    "# or a more distant station to the NW\n",
    "rd_p,rd_sh,rd_sv = radpatterns.calc_radiation_pattern(M,takeoff_angle=20,azimuth=-45)\n",
    "print('P radiation coefficient far away to the NW: {:0.2f}'.format(rd_p))"
   ]
  },
  {
   "cell_type": "markdown",
   "id": "0e4a1168-4bb8-400f-bca9-70e11bda9555",
   "metadata": {},
   "source": [
    "### 4. Other functions  \n",
    "\n",
    "Two other functions are available.  \n",
    "\n",
    "The function \"fault_projected_moment_tensor\" calculates a shear _or_ tensile moment tensor, but returns it in a coordinate system with axes defined by the fault plane.\n",
    "\n",
    "The function \"calc_unit_vectors\" calculates the unit vectors ${\\bf e}_R$, ${\\bf e}_\\phi$, and ${\\bf e}_\\theta$: the assumed directions of particle motion for the P, SH, and SV waves.  Note that here we have used the coordinate system described above, with positive to the right and up for the SH and SV waves, respectively.  Some references use different definitions of positive and negative."
   ]
  }
 ],
 "metadata": {
  "kernelspec": {
   "display_name": "Python 3 (ipykernel)",
   "language": "python",
   "name": "python3"
  },
  "language_info": {
   "codemirror_mode": {
    "name": "ipython",
    "version": 3
   },
   "file_extension": ".py",
   "mimetype": "text/x-python",
   "name": "python",
   "nbconvert_exporter": "python",
   "pygments_lexer": "ipython3",
   "version": "3.12.2"
  }
 },
 "nbformat": 4,
 "nbformat_minor": 5
}
